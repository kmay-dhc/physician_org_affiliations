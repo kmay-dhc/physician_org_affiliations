{
 "cells": [
  {
   "cell_type": "markdown",
   "metadata": {},
   "source": [
    "#### Insert non-claims based affiliations w/ scores (Hospitals and PGs)"
   ]
  },
  {
   "cell_type": "code",
   "execution_count": null,
   "metadata": {},
   "outputs": [],
   "source": []
  },
  {
   "cell_type": "code",
   "execution_count": 1,
   "metadata": {},
   "outputs": [],
   "source": [
    "import pandas as pd \n",
    "from google.cloud import bigquery"
   ]
  },
  {
   "cell_type": "code",
   "execution_count": 2,
   "metadata": {},
   "outputs": [],
   "source": [
    "bq_conn = bigquery.Client()"
   ]
  },
  {
   "cell_type": "markdown",
   "metadata": {},
   "source": []
  },
  {
   "cell_type": "code",
   "execution_count": 3,
   "metadata": {},
   "outputs": [
    {
     "data": {
      "text/plain": [
       "<google.cloud.bigquery.table._EmptyRowIterator at 0x7f632816a6a0>"
      ]
     },
     "execution_count": 3,
     "metadata": {},
     "output_type": "execute_result"
    }
   ],
   "source": [
    "sql_insert = \"\"\"\n",
    "INSERT INTO DS_WORK.PHYSICIAN_ORG_AFFILIATIONS (PHYSICIAN_NPI, DEFHC_ID, FIRM_TYPE, SCORE_BUCKET, OTHER_SOURCE_FLAG)\n",
    "SELECT A.NPI\n",
    "    ,  A.HOSPITAL_ID \n",
    "    ,  A.FIRM_TYPE\n",
    "    ,  CASE WHEN C.PHYSICIAN_NPI IS NULL THEN 7 - A.AFFILIATION_RANK ELSE 2 END AS SCORE_BUCKET \n",
    "    ,  1 AS OTHER_SOURCE_FLAG\n",
    "FROM   (\n",
    "        SELECT * FROM DS_WORK.CURRENT_PHYSICIAN_HOSPITAL_AFFILIATIONS\n",
    "       ) A \n",
    "LEFT   JOIN DS_WORK.PHYSICIAN_ORG_AFFILIATIONS B \n",
    "ON     A.NPI = B.PHYSICIAN_NPI \n",
    "AND    A.HOSPITAL_ID = B.DEFHC_ID\n",
    "LEFT   JOIN \n",
    "       ( \n",
    "        SELECT DISTINCT PHYSICIAN_NPI FROM DS_WORK.PHYSICIAN_ORG_AFFILIATIONS WHERE FIRM_TYPE = 'Hospital' \n",
    "       ) C \n",
    "ON     A.NPI = C.PHYSICIAN_NPI \n",
    "WHERE  B.PHYSICIAN_NPI IS NULL \n",
    "UNION ALL \n",
    "SELECT A.NPI\n",
    "    ,  A.HOSPITAL_ID \n",
    "    ,  A.FIRM_TYPE\n",
    "    ,  6 AS SCORE_BUCKET\n",
    "    ,  1 AS OTHER_SOURCE_FLAG \n",
    "FROM   (\n",
    "        SELECT * FROM DS_WORK.CURRENT_PHYSICIAN_PG_AFFILIATIONS\n",
    "       ) A \n",
    "LEFT   JOIN DS_WORK.PHYSICIAN_ORG_AFFILIATIONS B \n",
    "ON     A.NPI = B.PHYSICIAN_NPI \n",
    "AND    A.HOSPITAL_ID = B.DEFHC_ID\n",
    "WHERE  B.PHYSICIAN_NPI IS NULL \n",
    "\"\"\"\n",
    "\n",
    "bq_conn.query(sql_insert).result()"
   ]
  },
  {
   "cell_type": "code",
   "execution_count": 4,
   "metadata": {},
   "outputs": [
    {
     "data": {
      "text/plain": [
       "<google.cloud.bigquery.table._EmptyRowIterator at 0x7f63605cb1d0>"
      ]
     },
     "execution_count": 4,
     "metadata": {},
     "output_type": "execute_result"
    }
   ],
   "source": [
    "sql_update = \"\"\"UPDATE DS_WORK.PHYSICIAN_ORG_AFFILIATIONS  \n",
    "SET SCORE_BUCKET = CASE WHEN FIRM_TYPE = 'Physician Group' AND SCORE_BUCKET < 6 THEN 6 WHEN SCORE_BUCKET = 10 THEN 10 ELSE SCORE_BUCKET + 1 END \n",
    "WHERE IFNULL(COMM_CLAIMS,0) + IFNULL(MCR_CLAIMS,0) > 0 \n",
    "AND OTHER_SOURCE_FLAG = 1 \"\"\"\n",
    "\n",
    "bq_conn.query(sql_update).result()"
   ]
  },
  {
   "cell_type": "code",
   "execution_count": null,
   "metadata": {},
   "outputs": [],
   "source": []
  },
  {
   "cell_type": "markdown",
   "metadata": {},
   "source": [
    "Flag affiliations for inclusion"
   ]
  },
  {
   "cell_type": "code",
   "execution_count": 5,
   "metadata": {},
   "outputs": [
    {
     "data": {
      "text/plain": [
       "<google.cloud.bigquery.table._EmptyRowIterator at 0x7f63683bb940>"
      ]
     },
     "execution_count": 5,
     "metadata": {},
     "output_type": "execute_result"
    }
   ],
   "source": [
    "sql_inclusion_flag = \"\"\"\n",
    "CREATE OR REPLACE TABLE DS_WORK.PHYSICIAN_ORG_AFFILIATIONS \n",
    "AS \n",
    "SELECT *\n",
    "    ,  CASE WHEN (  SCORE_BUCKET > 1 \n",
    "                    AND (PCT_CLAIMS_MCR > 0.05 OR PCT_CLAIMS_COMM > 0.05 OR FIRM_TYPE_RANK = 1) \n",
    "                    AND MONTHS > 1 \n",
    "                    AND IFNULL(PATIENTS_COMM,0)+IFNULL(PATIENTS_MCR,0) > 2 \n",
    "                 ) \n",
    "                 OR SCORE_BUCKET >= 6\n",
    "                 OR OTHER_SOURCE_FLAG = 1 \n",
    "            THEN 1 ELSE 0 END AS INCLUDE_FLAG \n",
    "FROM   DS_WORK.PHYSICIAN_ORG_AFFILIATIONS \n",
    "\"\"\"\n",
    "\n",
    "bq_conn.query(sql_inclusion_flag).result() "
   ]
  },
  {
   "cell_type": "code",
   "execution_count": null,
   "metadata": {},
   "outputs": [],
   "source": []
  },
  {
   "cell_type": "code",
   "execution_count": null,
   "metadata": {},
   "outputs": [],
   "source": []
  },
  {
   "cell_type": "code",
   "execution_count": null,
   "metadata": {},
   "outputs": [],
   "source": []
  }
 ],
 "metadata": {
  "kernelspec": {
   "display_name": "Python 3",
   "language": "python",
   "name": "python3"
  },
  "language_info": {
   "codemirror_mode": {
    "name": "ipython",
    "version": 3
   },
   "file_extension": ".py",
   "mimetype": "text/x-python",
   "name": "python",
   "nbconvert_exporter": "python",
   "pygments_lexer": "ipython3",
   "version": "3.6.8"
  }
 },
 "nbformat": 4,
 "nbformat_minor": 4
}

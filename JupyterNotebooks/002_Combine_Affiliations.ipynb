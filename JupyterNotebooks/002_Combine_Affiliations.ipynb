{
 "cells": [
  {
   "cell_type": "markdown",
   "metadata": {},
   "source": [
    "#### Combine all commercial and Medicare affiliation lists into a table summarized by affiliation."
   ]
  },
  {
   "cell_type": "code",
   "execution_count": 1,
   "metadata": {},
   "outputs": [],
   "source": [
    "from google.cloud import bigquery\n",
    "import pyodbc\n",
    "import pandas as pd\n",
    "from datetime import datetime"
   ]
  },
  {
   "cell_type": "code",
   "execution_count": 2,
   "metadata": {},
   "outputs": [],
   "source": [
    "bq_conn = bigquery.Client()\n",
    "ssms_conn = pyodbc.connect('DRIVER={ODBC Driver 17 for SQL Server};SERVER=DHCSQLP02;DATABASE=DS_WORK;Trusted_Connection=yes;')"
   ]
  },
  {
   "cell_type": "code",
   "execution_count": null,
   "metadata": {},
   "outputs": [],
   "source": []
  },
  {
   "cell_type": "code",
   "execution_count": 3,
   "metadata": {},
   "outputs": [],
   "source": [
    "combined_sql = \"\"\"\n",
    "CREATE OR REPLACE TABLE DS_WORK.PHYSICIAN_ORG_AFFILIATIONS\n",
    "AS\n",
    "SELECT  NPI AS PHYSICIAN_NPI\n",
    "    ,   DEFHC_ID\n",
    "    ,   AC.HOSPITAL_NAME\n",
    "    ,   AC.FIRM_TYPE \n",
    "    ,   MIN(MIN_DATE) AS MIN_DATE\n",
    "    ,   MAX(MAX_DATE) AS MAX_DATE\n",
    "    ,   MIN(MIN_DATE_COMM) AS MIN_DATE_COMM\n",
    "    ,   MAX(MAX_DATE_COMM) AS MAX_DATE_COMM\n",
    "    ,   MIN(MIN_DATE_MCR) AS MIN_DATE_MCR\n",
    "    ,   MAX(MAX_DATE_MCR) AS MAX_DATE_MCR\n",
    "    ,   AVG(MONTHS_BETWEEN) AS AVG_MONTH_LAG \n",
    "    ,   MIN(MONTHS_BETWEEN) AS MIN_MONTH_LAG\n",
    "    ,   MAX(MONTHS_BETWEEN) AS MAX_MONTH_LAG \n",
    "    ,   COUNT(DISTINCT CLAIM_MONTH) AS MONTHS\n",
    "    ,   COUNT(DISTINCT CASE WHEN IFNULL(MEDICARE_CLAIMS,0)>0 THEN CLAIM_MONTH END) AS MONTHS_MCR\n",
    "    ,   COUNT(DISTINCT CASE WHEN IFNULL(COMMERCIAL_CLAIMS,0)>0 THEN CLAIM_MONTH END) AS MONTHS_COMM\n",
    "    ,   DATE_DIFF(MAX(CLAIM_MONTH), MIN(CLAIM_MONTH), MONTH)+1 AS MONTHS_DENOM\n",
    "    ,   SUM(COMMERCIAL_CLAIMS) AS COMM_CLAIMS\n",
    "    ,   SUM(MEDICARE_CLAIMS) AS MCR_CLAIMS\n",
    "FROM    (\n",
    "        SELECT  NPI \n",
    "            ,   DEFHC_ID\n",
    "            ,   CLAIM_MONTH\n",
    "            ,   MIN(MIN_SERVICE_TO_DATE) AS MIN_DATE\n",
    "            ,   MAX(MAX_SERVICE_TO_DATE) AS MAX_DATE\n",
    "            ,   MIN(MIN_DATE_COMM) AS MIN_DATE_COMM\n",
    "            ,   MAX(MAX_DATE_COMM) AS MAX_DATE_COMM\n",
    "            ,   MIN(MIN_DATE_MCR) AS MIN_DATE_MCR\n",
    "            ,   MAX(MAX_DATE_MCR) AS MAX_DATE_MCR\n",
    "            ,   SUM(COMMERCIAL_CLAIMS) AS COMMERCIAL_CLAIMS\n",
    "            ,   SUM(MEDICARE_CLAIMS) AS MEDICARE_CLAIMS\n",
    "            ,   LAG(CLAIM_MONTH) OVER(PARTITION BY NPI, DEFHC_ID ORDER BY CLAIM_MONTH) LAST_MTH\n",
    "            ,   DATE_DIFF(CLAIM_MONTH, LAG(CLAIM_MONTH) OVER(PARTITION BY NPI, DEFHC_ID ORDER BY CLAIM_MONTH), MONTH) AS MONTHS_BETWEEN\n",
    "        FROM    (\n",
    "                SELECT RENDERING_NPI AS NPI \n",
    "                    ,  C.DEFHC_ID\n",
    "                    ,  CLAIM_MONTH\n",
    "                    ,  MIN_SERVICE_TO_DATE\n",
    "                    ,  MAX_SERVICE_TO_DATE\n",
    "                    ,  CLAIMS AS COMMERCIAL_CLAIMS \n",
    "                    ,  0 AS MEDICARE_CLAIMS\n",
    "                    ,  MIN_SERVICE_TO_DATE AS MIN_DATE_COMM\n",
    "                    ,  NULL AS MIN_DATE_MCR\n",
    "                    ,  MAX_SERVICE_TO_DATE AS MAX_DATE_COMM\n",
    "                    ,  NULL AS MAX_DATE_MCR \n",
    "                FROM   DS_WORK.RENDERING_BILLING_AFFILIATIONS A \n",
    "                JOIN   CommercialHealthClaims.PhysicianLookup B\n",
    "                ON     A.RENDERING_NPI = B.NPI \n",
    "                JOIN   CommercialHealthClaims.LOOKUP_DEFHC_ID C \n",
    "                ON     A.BILLING_NPI = C.NPI \n",
    "                UNION ALL \n",
    "                SELECT RENDERING_NPI AS NPI \n",
    "                    ,  C.DEFHC_ID\n",
    "                    ,  CLAIM_MONTH\n",
    "                    ,  MIN_SERVICE_TO_DATE\n",
    "                    ,  MAX_SERVICE_TO_DATE\n",
    "                    ,  CLAIMS AS COMMERCIAL_CLAIMS\n",
    "                    ,  0 AS MEDICARE_CLAIMS\n",
    "                    ,  MIN_SERVICE_TO_DATE AS MIN_DATE_COMM\n",
    "                    ,  NULL AS MIN_DATE_MCR\n",
    "                    ,  MAX_SERVICE_TO_DATE AS MAX_DATE_COMM\n",
    "                    ,  NULL AS MAX_DATE_MCR \n",
    "                FROM   DS_WORK.RENDERING_SERVICE_FACILITY_AFFILIATIONS A \n",
    "                JOIN   CommercialHealthClaims.PhysicianLookup B\n",
    "                ON     A.RENDERING_NPI = B.NPI \n",
    "                JOIN   CommercialHealthClaims.LOOKUP_DEFHC_ID C \n",
    "                ON     A.SERVICE_FACILITY_NPI = C.NPI \n",
    "                UNION ALL \n",
    "                SELECT A.AT_PHYSN_NPI AS NPI \n",
    "                    ,  C.DEFHC_ID  \n",
    "                    ,  CLAIM_MONTH\n",
    "                    ,  MIN_SERVICE_TO_DATE\n",
    "                    ,  MAX_SERVICE_TO_DATE\n",
    "                    ,  0 AS COMMERCIAL_CLAIMS\n",
    "                    ,  CLAIMS AS MEDICARE_CLAIMS\n",
    "                    ,  NULL AS MIN_DATE_COMM\n",
    "                    ,  MIN_SERVICE_TO_DATE AS MIN_DATE_MCR\n",
    "                    ,  NULL AS MAX_DATE_COMM\n",
    "                    ,  MAX_SERVICE_TO_DATE AS MAX_DATE_MCR \n",
    "                FROM   DS_WORK.MCR_ATTENDING_ORGANIZATION_AFFILIATIONS A \n",
    "                JOIN   CommercialHealthClaims.PhysicianLookup B\n",
    "                ON     A.AT_PHYSN_NPI = B.NPI \n",
    "                JOIN   CommercialHealthClaims.LOOKUP_DEFHC_ID C \n",
    "                ON     A.ORG_NPI_NUM = C.NPI\n",
    "                UNION ALL \n",
    "                SELECT A.OP_PHYSN_NPI AS NPI\n",
    "                    ,  C.DEFHC_ID \n",
    "                    ,  CLAIM_MONTH\n",
    "                    ,  MIN_SERVICE_TO_DATE\n",
    "                    ,  MAX_SERVICE_TO_DATE\n",
    "                    ,  0 AS COMMERCIAL_CLAIMS \n",
    "                    ,  CLAIMS AS MEDICARE_CLAIMS\n",
    "                    ,  NULL AS MIN_DATE_COMM\n",
    "                    ,  MIN_SERVICE_TO_DATE AS MIN_DATE_MCR\n",
    "                    ,  NULL AS MAX_DATE_COMM\n",
    "                    ,  MAX_SERVICE_TO_DATE AS MAX_DATE_MCR \n",
    "                FROM   DS_WORK.MCR_OPERATING_ORGANIZATION_AFFILIATIONS  A \n",
    "                JOIN   CommercialHealthClaims.PhysicianLookup B\n",
    "                ON     A.OP_PHYSN_NPI = B.NPI \n",
    "                JOIN   CommercialHealthClaims.LOOKUP_DEFHC_ID C \n",
    "                ON     A.ORG_NPI_NUM = C.NPI\n",
    "                UNION ALL \n",
    "                SELECT A.RENDERING_NPI AS NPI\n",
    "                    ,  C.DEFHC_ID \n",
    "                    ,  CLAIM_MONTH\n",
    "                    ,  MIN_SERVICE_TO_DATE\n",
    "                    ,  MAX_SERVICE_TO_DATE\n",
    "                    ,  0 AS COMMERCIAL_CLAIMS \n",
    "                    ,  CLAIMS AS MEDICARE_CLAIMS\n",
    "                    ,  NULL AS MIN_DATE_COMM\n",
    "                    ,  MIN_SERVICE_TO_DATE AS MIN_DATE_MCR\n",
    "                    ,  NULL AS MAX_DATE_COMM\n",
    "                    ,  MAX_SERVICE_TO_DATE AS MAX_DATE_MCR \n",
    "                FROM   DS_WORK.MCR_RENDERING_ORGANIZATION_AFFILIATIONS  A \n",
    "                JOIN   CommercialHealthClaims.PhysicianLookup B\n",
    "                ON     A.RENDERING_NPI = B.NPI \n",
    "                JOIN   CommercialHealthClaims.LOOKUP_DEFHC_ID C \n",
    "                ON     A.ORG_NPI_NUM = C.NPI\n",
    "                ) \n",
    "        WHERE   CLAIM_MONTH >= '2016-01-01'\n",
    "        AND     CLAIM_MONTH <= (SELECT MAX(CLAIM_DATE) FROM CommercialHealthClaims.CLMS_COMMERCIAL_MAX_DATE)\n",
    "        GROUP   BY NPI \n",
    "            ,   DEFHC_ID\n",
    "            ,   CLAIM_MONTH\n",
    "        ) A\n",
    "JOIN   PS_WORK.ALL_COMPANIES AC\n",
    "ON     A.DEFHC_ID = AC.HOSPITAL_ID\n",
    "GROUP  BY NPI\n",
    "    ,   DEFHC_ID\n",
    "    ,   AC.HOSPITAL_NAME\n",
    "    ,   AC.FIRM_TYPE \n",
    "\"\"\""
   ]
  },
  {
   "cell_type": "code",
   "execution_count": 4,
   "metadata": {},
   "outputs": [
    {
     "data": {
      "text/plain": [
       "<google.cloud.bigquery.table._EmptyRowIterator at 0x7fdd55049940>"
      ]
     },
     "execution_count": 4,
     "metadata": {},
     "output_type": "execute_result"
    }
   ],
   "source": [
    "bq_conn.query(combined_sql).result()"
   ]
  },
  {
   "cell_type": "code",
   "execution_count": null,
   "metadata": {},
   "outputs": [],
   "source": []
  },
  {
   "cell_type": "markdown",
   "metadata": {},
   "source": [
    "Calculate total claims by physician by month to use as denominator when calculating percentages. "
   ]
  },
  {
   "cell_type": "code",
   "execution_count": 5,
   "metadata": {},
   "outputs": [],
   "source": [
    "# PHYSICIAN TOTALS - COMMERCIAL \n",
    "\n",
    "sql_phys_total_comm = \"\"\"\n",
    "CREATE OR REPLACE TABLE DS_WORK.PHYSICIAN_AFFILIATION_TOTAL_CLAIMS_COMMERCIAL\n",
    "AS\n",
    "SELECT RENDERING_NPI\n",
    "    ,  CLAIM_MONTH\n",
    "    ,  COUNT(*) AS PHYSICIAN_TOTAL_CLAIMS_COMM\n",
    "FROM (\n",
    "        SELECT DISTINCT B.NPI AS RENDERING_NPI\n",
    "            , SERVICE_TO_DATE\n",
    "            , DPID \n",
    "            ,  SAFE_CAST(CONCAT(CAST(CLAIM_YEAR AS STRING), '-', SUBSTR(SAFE_CAST(SERVICE_TO_DATE AS STRING), 5, 2), '-', '01') AS DATE) AS CLAIM_MONTH\n",
    "        FROM CommercialHealthClaims.CLMS_EntityData A \n",
    "        JOIN CommercialHealthClaims.LOOKUP_DEFHC_ID B \n",
    "        ON A.RENDERING_NPIID = B.NPIID \n",
    "        WHERE CLAIM_YEAR >= 2016\n",
    "        AND COALESCE(A.BILLING_NPIID, A.SERVICE_FACILITY_NPIID) IS NOT NULL \n",
    "        AND COALESCE(A.BILLING_NPIID, A.SERVICE_FACILITY_NPIID) <> A.RENDERING_NPIID \n",
    "    ) \n",
    "GROUP BY RENDERING_NPI\n",
    "    , CLAIM_MONTH\n",
    "\"\"\""
   ]
  },
  {
   "cell_type": "code",
   "execution_count": 6,
   "metadata": {},
   "outputs": [
    {
     "data": {
      "text/plain": [
       "<google.cloud.bigquery.table._EmptyRowIterator at 0x7f9af4d769b0>"
      ]
     },
     "execution_count": 6,
     "metadata": {},
     "output_type": "execute_result"
    }
   ],
   "source": [
    "bq_conn.query(sql_phys_total_comm).result()"
   ]
  },
  {
   "cell_type": "code",
   "execution_count": null,
   "metadata": {},
   "outputs": [],
   "source": []
  },
  {
   "cell_type": "code",
   "execution_count": 7,
   "metadata": {},
   "outputs": [],
   "source": [
    "# PHYSICIAN TOTALS - MEDICARE \n",
    "\n",
    "sql_phys_total_mcr = \"\"\"\n",
    "CREATE OR REPLACE TABLE DS_WORK.PHYSICIAN_AFFILIATION_TOTAL_CLAIMS_MEDICARE\n",
    "AS\n",
    "SELECT  PHYSICIAN_NPI\n",
    "    ,   CLAIM_MONTH\n",
    "    ,   SUM(CLAIMS) AS PHYSICIAN_TOTAL_CLAIMS_MCR\n",
    "FROM    (\n",
    "        SELECT AT_PHYSN_NPI AS PHYSICIAN_NPI, CLAIM_MONTH, SUM(CLAIMS) AS CLAIMS FROM DS_WORK.MCR_ATTENDING_ORGANIZATION_AFFILIATIONS GROUP BY AT_PHYSN_NPI, CLAIM_MONTH\n",
    "        UNION ALL\n",
    "        SELECT OP_PHYSN_NPI, CLAIM_MONTH, SUM(CLAIMS) FROM DS_WORK.MCR_OPERATING_ORGANIZATION_AFFILIATIONS GROUP BY OP_PHYSN_NPI, CLAIM_MONTH\n",
    "        UNION ALL\n",
    "        SELECT RENDERING_NPI, CLAIM_MONTH, SUM(CLAIMS) FROM DS_WORK.MCR_RENDERING_ORGANIZATION_AFFILIATIONS GROUP BY RENDERING_NPI, CLAIM_MONTH\n",
    "        ) \n",
    "GROUP   BY PHYSICIAN_NPI\n",
    "    ,   CLAIM_MONTH \n",
    "\"\"\""
   ]
  },
  {
   "cell_type": "code",
   "execution_count": 8,
   "metadata": {},
   "outputs": [
    {
     "data": {
      "text/plain": [
       "<google.cloud.bigquery.table._EmptyRowIterator at 0x7f9aa2a25400>"
      ]
     },
     "execution_count": 8,
     "metadata": {},
     "output_type": "execute_result"
    }
   ],
   "source": [
    "bq_conn.query(sql_phys_total_mcr).result()"
   ]
  },
  {
   "cell_type": "code",
   "execution_count": null,
   "metadata": {},
   "outputs": [],
   "source": []
  },
  {
   "cell_type": "markdown",
   "metadata": {},
   "source": [
    "Calculate percentages of physicians' practice over the active claims period for each"
   ]
  },
  {
   "cell_type": "code",
   "execution_count": 9,
   "metadata": {},
   "outputs": [],
   "source": [
    "sql_phys_aff_practice_pct = \"\"\"\n",
    "CREATE OR REPLACE TABLE DS_WORK.PHYSICIAN_ORG_AFFILIATIONS_CLAIMS_PCT\n",
    "AS \n",
    "SELECT PHYSICIAN_NPI\n",
    "    ,  DEFHC_ID\n",
    "    ,  IFNULL(PCT_CLAIMS, 0) AS PCT_CLAIMS\n",
    "    ,  IFNULL(PCT_CLAIMS_MCR, 0) AS PCT_CLAIMS_MCR\n",
    "    ,  IFNULL(PCT_CLAIMS_COMM, 0) AS PCT_CLAIMS_COMM\n",
    "FROM   (\n",
    "        SELECT A.PHYSICIAN_NPI\n",
    "            ,  A.DEFHC_ID\n",
    "            ,  A.HOSPITAL_NAME\n",
    "            ,  A.FIRM_TYPE\n",
    "            ,  A.MIN_DATE\n",
    "            ,  A.MAX_DATE\n",
    "            ,  A.MIN_DATE_COMM\n",
    "            ,  A.MAX_DATE_COMM\n",
    "            ,  A.MIN_DATE_MCR\n",
    "            ,  A.MAX_DATE_MCR \n",
    "            ,  COMM_CLAIMS\n",
    "            ,  SUM(B.PHYSICIAN_TOTAL_CLAIMS_COMM) AS PHYS_CLAIMS_COMM\n",
    "            ,  COMM_CLAIMS*1.0 / NULLIF(SUM(B.PHYSICIAN_TOTAL_CLAIMS_COMM),0) AS PCT_CLAIMS_COMM\n",
    "            ,  MCR_CLAIMS\n",
    "            ,  SUM(C.PHYSICIAN_TOTAL_CLAIMS_MCR) AS PHYS_CLAIMS_MCR\n",
    "            ,  MCR_CLAIMS*1.0 / NULLIF(SUM(C.PHYSICIAN_TOTAL_CLAIMS_MCR),0) AS PCT_CLAIMS_MCR\n",
    "            ,  COMM_CLAIMS+MCR_CLAIMS AS CLAIMS \n",
    "            ,  (COMM_CLAIMS+MCR_CLAIMS)*1.0 / NULLIF(SUM(IFNULL(C.PHYSICIAN_TOTAL_CLAIMS_MCR,0)+IFNULL(B.PHYSICIAN_TOTAL_CLAIMS_COMM,0)),0) AS PCT_CLAIMS\n",
    "        FROM   DS_WORK.PHYSICIAN_ORG_AFFILIATIONS A \n",
    "        JOIN   (\n",
    "                SELECT RENDERING_NPI AS PHYSICIAN_NPI, CLAIM_MONTH FROM DS_WORK.PHYSICIAN_AFFILIATION_TOTAL_CLAIMS_COMMERCIAL\n",
    "                UNION DISTINCT \n",
    "                SELECT PHYSICIAN_NPI, CLAIM_MONTH FROM DS_WORK.PHYSICIAN_AFFILIATION_TOTAL_CLAIMS_MEDICARE\n",
    "               ) X \n",
    "        ON     A.PHYSICIAN_NPI = X.PHYSICIAN_NPI \n",
    "        LEFT   JOIN DS_WORK.PHYSICIAN_AFFILIATION_TOTAL_CLAIMS_COMMERCIAL B \n",
    "        ON     A.PHYSICIAN_NPI = B.RENDERING_NPI \n",
    "        AND    X.CLAIM_MONTH = B.CLAIM_MONTH\n",
    "        AND    B.CLAIM_MONTH BETWEEN CAST(CONCAT(EXTRACT(YEAR FROM A.MIN_DATE_COMM), '-', EXTRACT(MONTH FROM A.MIN_DATE_COMM), '-01') AS DATE) AND CAST(CONCAT(EXTRACT(YEAR FROM A.MAX_DATE_COMM), '-', EXTRACT(MONTH FROM A.MAX_DATE_COMM), '-01') AS DATE)\n",
    "        LEFT   JOIN DS_WORK.PHYSICIAN_AFFILIATION_TOTAL_CLAIMS_MEDICARE C \n",
    "        ON     A.PHYSICIAN_NPI = C.PHYSICIAN_NPI \n",
    "        AND    X.CLAIM_MONTH = C.CLAIM_MONTH \n",
    "        AND    C.CLAIM_MONTH BETWEEN CAST(CONCAT(EXTRACT(YEAR FROM A.MIN_DATE_MCR), '-', EXTRACT(MONTH FROM A.MIN_DATE_MCR), '-01') AS DATE) AND CAST(CONCAT(EXTRACT(YEAR FROM A.MAX_DATE_MCR), '-', EXTRACT(MONTH FROM A.MAX_DATE_MCR), '-01') AS DATE)\n",
    "        GROUP  BY A.PHYSICIAN_NPI\n",
    "            , A.DEFHC_ID\n",
    "            , A.HOSPITAL_NAME\n",
    "            , A.FIRM_TYPE\n",
    "            , A.MIN_DATE\n",
    "            , A.MAX_DATE\n",
    "            ,  A.MIN_DATE_COMM\n",
    "            ,  A.MAX_DATE_COMM\n",
    "            ,  A.MIN_DATE_MCR\n",
    "            ,  A.MAX_DATE_MCR \n",
    "            , COMM_CLAIMS\n",
    "            , MCR_CLAIMS\n",
    "        ) \n",
    "\"\"\""
   ]
  },
  {
   "cell_type": "code",
   "execution_count": 10,
   "metadata": {},
   "outputs": [
    {
     "name": "stdout",
     "output_type": "stream",
     "text": [
      "2020-07-01 15:47:00.438534\n",
      "<google.cloud.bigquery.table._EmptyRowIterator object at 0x7f9aa29d0c50>\n",
      "2020-07-01 15:48:33.411114\n"
     ]
    }
   ],
   "source": [
    "print(datetime.now())\n",
    "print(bq_conn.query(sql_phys_aff_practice_pct).result())\n",
    "print(datetime.now())"
   ]
  },
  {
   "cell_type": "code",
   "execution_count": null,
   "metadata": {},
   "outputs": [],
   "source": []
  },
  {
   "cell_type": "markdown",
   "metadata": {},
   "source": [
    "Calculate total unique patients for each relationship "
   ]
  },
  {
   "cell_type": "code",
   "execution_count": 11,
   "metadata": {},
   "outputs": [],
   "source": [
    "# COMMERCIAL \n",
    "\n",
    "sql_patients_comm = \"\"\"\n",
    "CREATE OR REPLACE TABLE DS_WORK.PHYSICIAN_AFFILIATION_TOTAL_PATIENTS_COMMERCIAL\n",
    "AS\n",
    "SELECT PHYSICIAN_NPI\n",
    "    ,  DEFHC_ID\n",
    "    ,  COUNT(*) AS PHYSICIAN_TOTAL_PATIENTS_COMM\n",
    "FROM (\n",
    "        SELECT B.NPI AS PHYSICIAN_NPI\n",
    "            , C.DEFHC_ID\n",
    "            , DPID \n",
    "        FROM CommercialHealthClaims.CLMS_EntityData A \n",
    "        JOIN CommercialHealthClaims.LOOKUP_DEFHC_ID B \n",
    "        ON A.RENDERING_NPIID = B.NPIID\n",
    "        JOIN CommercialHealthClaims.LOOKUP_DEFHC_ID C \n",
    "        ON A.BILLING_NPIID = C.NPIID\n",
    "        WHERE CLAIM_YEAR >= 2016\n",
    "        AND C.DEFHC_ID IS NOT NULL \n",
    "        AND A.BILLING_NPIID <> A.RENDERING_NPIID \n",
    "        UNION DISTINCT \n",
    "        SELECT B.NPI AS RENDERING_NPI\n",
    "            , C.DEFHC_ID\n",
    "            , DPID \n",
    "        FROM CommercialHealthClaims.CLMS_EntityData A \n",
    "        JOIN CommercialHealthClaims.LOOKUP_DEFHC_ID B \n",
    "        ON A.RENDERING_NPIID = B.NPIID \n",
    "        JOIN CommercialHealthClaims.LOOKUP_DEFHC_ID C \n",
    "        ON A.SERVICE_FACILITY_NPIID = C.NPIID\n",
    "        WHERE CLAIM_YEAR >= 2016\n",
    "        AND C.DEFHC_ID IS NOT NULL \n",
    "        AND A.BILLING_NPIID <> A.RENDERING_NPIID \n",
    "    ) \n",
    "GROUP BY PHYSICIAN_NPI\n",
    "    , DEFHC_ID\n",
    "\"\"\""
   ]
  },
  {
   "cell_type": "code",
   "execution_count": 12,
   "metadata": {},
   "outputs": [
    {
     "data": {
      "text/plain": [
       "<google.cloud.bigquery.table._EmptyRowIterator at 0x7f9aa2a25828>"
      ]
     },
     "execution_count": 12,
     "metadata": {},
     "output_type": "execute_result"
    }
   ],
   "source": [
    "bq_conn.query(sql_patients_comm).result()"
   ]
  },
  {
   "cell_type": "code",
   "execution_count": 13,
   "metadata": {},
   "outputs": [],
   "source": [
    "# MEDICARE \n",
    "\n",
    "medicare_years_df = pd.DataFrame()\n",
    "medicare_years_qtrly_df = pd.DataFrame()\n",
    "\n",
    "for db in(list(pd.read_sql(\"\"\"SELECT [name] AS DB FROM sys.databases WHERE [name] LIKE 'MEDICARE_SAF_20%' \"\"\", ssms_conn)['DB'].values)):\n",
    "    medicare_years_df = medicare_years_df.append(pd.read_sql(\"\"\"SELECT {yr} AS CLAIM_YEAR FROM {db}.INFORMATION_SCHEMA.TABLES WHERE TABLE_NAME ='INPATIENT_CLM_PRCDR' AND {yr} > 2015 \"\"\".format(db=db, yr=db[-4:]), ssms_conn))\n",
    "    \n",
    "for db in(list(pd.read_sql(\"\"\"SELECT [name] AS DB FROM sys.databases WHERE [name] LIKE 'MEDICARE_SAF_20%' \"\"\", ssms_conn)['DB'].values)):\n",
    "    medicare_years_qtrly_df = medicare_years_qtrly_df.append(pd.read_sql(\"\"\"SELECT {yr} AS CLAIM_YEAR FROM {db}.INFORMATION_SCHEMA.TABLES WHERE TABLE_NAME ='INPATIENT_CLM_PRCDR_QTRLY' AND {yr} > 2015 \"\"\".format(db=db, yr=db[-4:]), ssms_conn))\n",
    "    \n",
    "medicare_years = list(medicare_years_df['CLAIM_YEAR'].values)\n",
    "medicare_years_qtrly = list(set(medicare_years_qtrly_df['CLAIM_YEAR'].values) - set(medicare_years))"
   ]
  },
  {
   "cell_type": "code",
   "execution_count": 14,
   "metadata": {},
   "outputs": [
    {
     "name": "stdout",
     "output_type": "stream",
     "text": [
      "Medicare full years:  [2016, 2017, 2018]\n",
      "Medicare quarterly years:  [2019]\n"
     ]
    }
   ],
   "source": [
    "print('Medicare full years: ', medicare_years)\n",
    "print('Medicare quarterly years: ', medicare_years_qtrly)"
   ]
  },
  {
   "cell_type": "code",
   "execution_count": 15,
   "metadata": {},
   "outputs": [],
   "source": [
    "# update DS_WORK.dbo.LOOKUP_DEFHC_ID\n",
    "df_lookup_defhc = bq_conn.query('SELECT NPI, IFNULL(DEFHC_ID,0) AS DEFHC_ID FROM CommercialHealthClaims.LOOKUP_DEFHC_ID').result().to_dataframe()"
   ]
  },
  {
   "cell_type": "code",
   "execution_count": 16,
   "metadata": {},
   "outputs": [
    {
     "name": "stdout",
     "output_type": "stream",
     "text": [
      "2020-07-01 15:51:08.573724\n",
      "2020-07-01 17:00:57.081929\n"
     ]
    }
   ],
   "source": [
    "print(datetime.now())\n",
    "\n",
    "cursor = ssms_conn.cursor() \n",
    "cursor.execute('TRUNCATE TABLE DS_WORK.dbo.LOOKUP_DEFHC_ID')\n",
    "\n",
    "for i, row in df_lookup_defhc.iterrows():\n",
    "    cursor.execute('INSERT INTO DS_WORK.dbo.LOOKUP_DEFHC_ID VALUES (?, ?)', int(row['NPI']), int(row['DEFHC_ID']))\n",
    "    ssms_conn.commit() \n",
    "\n",
    "cursor.close()\n",
    "\n",
    "print(datetime.now())"
   ]
  },
  {
   "cell_type": "code",
   "execution_count": 17,
   "metadata": {},
   "outputs": [],
   "source": [
    "sql_patients_mcr = ''\n",
    "\n",
    "for yr in [medicare_years[0]]: \n",
    "    sql_patients_mcr += \"\"\"\n",
    "    SELECT AT_PHYSN_NPI AS PHYSICIAN_NPI, ORG_NPI_NUM, DESY_SORT_KEY  \n",
    "    FROM MEDICARE_SAF_{yr}.dbo.inp_claimsk_lds_100_{yr}\n",
    "    UNION \n",
    "    SELECT OP_PHYSN_NPI, ORG_NPI_NUM, DESY_SORT_KEY  \n",
    "    FROM MEDICARE_SAF_{yr}.dbo.inp_claimsk_lds_100_{yr}\n",
    "    UNION \n",
    "    SELECT RNDRNG_PHYSN_NPI, ORG_NPI_NUM, DESY_SORT_KEY  \n",
    "    FROM MEDICARE_SAF_{yr}.dbo.inp_claimsk_lds_100_{yr}\n",
    "    UNION \n",
    "    SELECT AT_PHYSN_NPI AS PHYSICIAN_NPI, ORG_NPI_NUM, DESY_SORT_KEY  \n",
    "    FROM MEDICARE_SAF_{yr}.dbo.out_claimsk_lds_100_{yr}\n",
    "    UNION \n",
    "    SELECT OP_PHYSN_NPI, ORG_NPI_NUM, DESY_SORT_KEY  \n",
    "    FROM MEDICARE_SAF_{yr}.dbo.out_claimsk_lds_100_{yr}\n",
    "    UNION \n",
    "    SELECT RNDRNG_PHYSN_NPI, ORG_NPI_NUM, DESY_SORT_KEY  \n",
    "    FROM MEDICARE_SAF_{yr}.dbo.out_claimsk_lds_100_{yr}\n",
    "    UNION \n",
    "    SELECT AT_PHYSN_NPI AS PHYSICIAN_NPI, ORG_NPI_NUM, DESY_SORT_KEY  \n",
    "    FROM MEDICARE_SAF_{yr}.dbo.snf_claimsk_lds_100_{yr}\n",
    "    UNION \n",
    "    SELECT OP_PHYSN_NPI, ORG_NPI_NUM, DESY_SORT_KEY  \n",
    "    FROM MEDICARE_SAF_{yr}.dbo.snf_claimsk_lds_100_{yr}\n",
    "    UNION \n",
    "    SELECT RNDRNG_PHYSN_NPI, ORG_NPI_NUM, DESY_SORT_KEY  \n",
    "    FROM MEDICARE_SAF_{yr}.dbo.snf_claimsk_lds_100_{yr}\n",
    "    UNION \n",
    "    SELECT AT_PHYSN_NPI AS PHYSICIAN_NPI, ORG_NPI_NUM, DESY_SORT_KEY  \n",
    "    FROM MEDICARE_SAF_{yr}.dbo.hha_claimsk_lds_100_{yr}\n",
    "    UNION \n",
    "    SELECT OP_PHYSN_NPI, ORG_NPI_NUM, DESY_SORT_KEY  \n",
    "    FROM MEDICARE_SAF_{yr}.dbo.hha_claimsk_lds_100_{yr}\n",
    "    UNION \n",
    "    SELECT RNDRNG_PHYSN_NPI, ORG_NPI_NUM, DESY_SORT_KEY  \n",
    "    FROM MEDICARE_SAF_{yr}.dbo.hha_claimsk_lds_100_{yr}\n",
    "    UNION \n",
    "    SELECT AT_PHYSN_NPI AS PHYSICIAN_NPI, ORG_NPI_NUM, DESY_SORT_KEY  \n",
    "    FROM MEDICARE_SAF_{yr}.dbo.hosp_claimsk_lds_100_{yr}\n",
    "    UNION \n",
    "    SELECT OP_PHYSN_NPI, ORG_NPI_NUM, DESY_SORT_KEY  \n",
    "    FROM MEDICARE_SAF_{yr}.dbo.hosp_claimsk_lds_100_{yr}\n",
    "    UNION  \n",
    "    SELECT RNDRNG_PHYSN_NPI, ORG_NPI_NUM, DESY_SORT_KEY  \n",
    "    FROM MEDICARE_SAF_{yr}.dbo.hosp_claimsk_lds_100_{yr}\n",
    "    \"\"\".format(yr=yr)\n",
    "    \n",
    "for yr in medicare_years[1:]: \n",
    "    sql_patients_mcr += \"\"\"\n",
    "    UNION  \n",
    "    SELECT AT_PHYSN_NPI AS PHYSICIAN_NPI, ORG_NPI_NUM, DESY_SORT_KEY  \n",
    "    FROM MEDICARE_SAF_{yr}.dbo.inp_claimsk_lds_100_{yr}\n",
    "    UNION  \n",
    "    SELECT OP_PHYSN_NPI, ORG_NPI_NUM, DESY_SORT_KEY  \n",
    "    FROM MEDICARE_SAF_{yr}.dbo.inp_claimsk_lds_100_{yr}\n",
    "    UNION  \n",
    "    SELECT RNDRNG_PHYSN_NPI, ORG_NPI_NUM, DESY_SORT_KEY  \n",
    "    FROM MEDICARE_SAF_{yr}.dbo.inp_claimsk_lds_100_{yr}\n",
    "    UNION  \n",
    "    SELECT AT_PHYSN_NPI AS PHYSICIAN_NPI, ORG_NPI_NUM, DESY_SORT_KEY  \n",
    "    FROM MEDICARE_SAF_{yr}.dbo.out_claimsk_lds_100_{yr}\n",
    "    UNION  \n",
    "    SELECT OP_PHYSN_NPI, ORG_NPI_NUM, DESY_SORT_KEY  \n",
    "    FROM MEDICARE_SAF_{yr}.dbo.out_claimsk_lds_100_{yr}\n",
    "    UNION  \n",
    "    SELECT RNDRNG_PHYSN_NPI, ORG_NPI_NUM, DESY_SORT_KEY  \n",
    "    FROM MEDICARE_SAF_{yr}.dbo.out_claimsk_lds_100_{yr}\n",
    "    UNION  \n",
    "    SELECT AT_PHYSN_NPI AS PHYSICIAN_NPI, ORG_NPI_NUM, DESY_SORT_KEY  \n",
    "    FROM MEDICARE_SAF_{yr}.dbo.snf_claimsk_lds_100_{yr}\n",
    "    UNION \n",
    "    SELECT OP_PHYSN_NPI, ORG_NPI_NUM, DESY_SORT_KEY  \n",
    "    FROM MEDICARE_SAF_{yr}.dbo.snf_claimsk_lds_100_{yr}\n",
    "    UNION \n",
    "    SELECT RNDRNG_PHYSN_NPI, ORG_NPI_NUM, DESY_SORT_KEY  \n",
    "    FROM MEDICARE_SAF_{yr}.dbo.snf_claimsk_lds_100_{yr}\n",
    "    UNION  \n",
    "    SELECT AT_PHYSN_NPI AS PHYSICIAN_NPI, ORG_NPI_NUM, DESY_SORT_KEY  \n",
    "    FROM MEDICARE_SAF_{yr}.dbo.hha_claimsk_lds_100_{yr}\n",
    "    UNION  \n",
    "    SELECT OP_PHYSN_NPI, ORG_NPI_NUM, DESY_SORT_KEY  \n",
    "    FROM MEDICARE_SAF_{yr}.dbo.hha_claimsk_lds_100_{yr}\n",
    "    UNION  \n",
    "    SELECT RNDRNG_PHYSN_NPI, ORG_NPI_NUM, DESY_SORT_KEY  \n",
    "    FROM MEDICARE_SAF_{yr}.dbo.hha_claimsk_lds_100_{yr}\n",
    "    UNION  \n",
    "    SELECT AT_PHYSN_NPI AS PHYSICIAN_NPI, ORG_NPI_NUM, DESY_SORT_KEY  \n",
    "    FROM MEDICARE_SAF_{yr}.dbo.hosp_claimsk_lds_100_{yr}\n",
    "    UNION  \n",
    "    SELECT OP_PHYSN_NPI, ORG_NPI_NUM, DESY_SORT_KEY  \n",
    "    FROM MEDICARE_SAF_{yr}.dbo.hosp_claimsk_lds_100_{yr}\n",
    "    UNION  \n",
    "    SELECT RNDRNG_PHYSN_NPI, ORG_NPI_NUM, DESY_SORT_KEY  \n",
    "    FROM MEDICARE_SAF_{yr}.dbo.hosp_claimsk_lds_100_{yr}\n",
    "    \"\"\".format(yr=yr)\n",
    "    \n",
    "for yr in medicare_years_qtrly: \n",
    "    sql_patients_mcr += \"\"\"\n",
    "    UNION  \n",
    "    SELECT AT_PHYSN_NPI AS PHYSICIAN_NPI, ORG_NPI_NUM, DESY_SORT_KEY  \n",
    "    FROM MEDICARE_SAF_{yr}.dbo.inp_claimsk_lds_100_{yr}_q\n",
    "    UNION  \n",
    "    SELECT OP_PHYSN_NPI, ORG_NPI_NUM, DESY_SORT_KEY  \n",
    "    FROM MEDICARE_SAF_{yr}.dbo.inp_claimsk_lds_100_{yr}_q\n",
    "    UNION  \n",
    "    SELECT RNDRNG_PHYSN_NPI, ORG_NPI_NUM, DESY_SORT_KEY  \n",
    "    FROM MEDICARE_SAF_{yr}.dbo.inp_claimsk_lds_100_{yr}_q\n",
    "    UNION  \n",
    "    SELECT AT_PHYSN_NPI AS PHYSICIAN_NPI, ORG_NPI_NUM, DESY_SORT_KEY  \n",
    "    FROM MEDICARE_SAF_{yr}.dbo.out_claimsk_lds_100_{yr}_q\n",
    "    UNION  \n",
    "    SELECT OP_PHYSN_NPI, ORG_NPI_NUM, DESY_SORT_KEY  \n",
    "    FROM MEDICARE_SAF_{yr}.dbo.out_claimsk_lds_100_{yr}_q\n",
    "    UNION  \n",
    "    SELECT RNDRNG_PHYSN_NPI, ORG_NPI_NUM, DESY_SORT_KEY  \n",
    "    FROM MEDICARE_SAF_{yr}.dbo.out_claimsk_lds_100_{yr}_q\n",
    "    UNION  \n",
    "    SELECT AT_PHYSN_NPI AS PHYSICIAN_NPI, ORG_NPI_NUM, DESY_SORT_KEY  \n",
    "    FROM MEDICARE_SAF_{yr}.dbo.snf_claimsk_lds_100_{yr}_q\n",
    "    UNION  \n",
    "    SELECT OP_PHYSN_NPI, ORG_NPI_NUM, DESY_SORT_KEY  \n",
    "    FROM MEDICARE_SAF_{yr}.dbo.snf_claimsk_lds_100_{yr}_q\n",
    "    UNION  \n",
    "    SELECT RNDRNG_PHYSN_NPI, ORG_NPI_NUM, DESY_SORT_KEY  \n",
    "    FROM MEDICARE_SAF_{yr}.dbo.snf_claimsk_lds_100_{yr}_q\n",
    "    UNION  \n",
    "    SELECT AT_PHYSN_NPI AS PHYSICIAN_NPI, ORG_NPI_NUM, DESY_SORT_KEY  \n",
    "    FROM MEDICARE_SAF_{yr}.dbo.hha_claimsk_lds_100_{yr}_q\n",
    "    UNION  \n",
    "    SELECT OP_PHYSN_NPI, ORG_NPI_NUM, DESY_SORT_KEY  \n",
    "    FROM MEDICARE_SAF_{yr}.dbo.hha_claimsk_lds_100_{yr}_q\n",
    "    UNION  \n",
    "    SELECT RNDRNG_PHYSN_NPI, ORG_NPI_NUM, DESY_SORT_KEY  \n",
    "    FROM MEDICARE_SAF_{yr}.dbo.hha_claimsk_lds_100_{yr}_q\n",
    "    UNION  \n",
    "    SELECT AT_PHYSN_NPI AS PHYSICIAN_NPI, ORG_NPI_NUM, DESY_SORT_KEY  \n",
    "    FROM MEDICARE_SAF_{yr}.dbo.hosp_claimsk_lds_100_{yr}_q\n",
    "    UNION  \n",
    "    SELECT OP_PHYSN_NPI, ORG_NPI_NUM, DESY_SORT_KEY  \n",
    "    FROM MEDICARE_SAF_{yr}.dbo.hosp_claimsk_lds_100_{yr}_q\n",
    "    UNION  \n",
    "    SELECT RNDRNG_PHYSN_NPI, ORG_NPI_NUM, DESY_SORT_KEY  \n",
    "    FROM MEDICARE_SAF_{yr}.dbo.hosp_claimsk_lds_100_{yr}_q\"\"\".format(yr=yr)\n",
    "    \n",
    "\n",
    "sql_patients_mcr = \"\"\"SELECT PHYSICIAN_NPI, DEFHC_ID, COUNT(DISTINCT DESY_SORT_KEY) AS PHYSICIAN_TOTAL_PATIENTS_MCR\n",
    "                        FROM ({sql}) A \n",
    "                        JOIN DS_WORK.dbo.LOOKUP_DEFHC_ID B \n",
    "                        ON A.ORG_NPI_NUM = CAST(B.NPI AS VARCHAR) \n",
    "                        GROUP BY PHYSICIAN_NPI, DEFHC_ID\"\"\".format(sql=sql_patients_mcr)\n",
    "\n"
   ]
  },
  {
   "cell_type": "code",
   "execution_count": 18,
   "metadata": {},
   "outputs": [
    {
     "name": "stdout",
     "output_type": "stream",
     "text": [
      "2020-07-01 17:00:57.095503\n",
      "2020-07-01 18:23:04.112328\n"
     ]
    }
   ],
   "source": [
    "print(datetime.now())\n",
    "\n",
    "df_patients_mcr = pd.read_sql(sql_patients_mcr, ssms_conn)\n",
    "\n",
    "print(datetime.now())"
   ]
  },
  {
   "cell_type": "code",
   "execution_count": 19,
   "metadata": {},
   "outputs": [
    {
     "name": "stderr",
     "output_type": "stream",
     "text": [
      "/usr/local/lib/python3.6/site-packages/google/cloud/bigquery/_pandas_helpers.py:275: UserWarning: Unable to determine type of column 'PHYSICIAN_NPI'.\n",
      "  warnings.warn(u\"Unable to determine type of column '{}'.\".format(column))\n"
     ]
    },
    {
     "data": {
      "text/plain": [
       "<google.cloud.bigquery.job.LoadJob at 0x7f9aa29fa7b8>"
      ]
     },
     "execution_count": 19,
     "metadata": {},
     "output_type": "execute_result"
    }
   ],
   "source": [
    "#TO BQ \n",
    "bq_conn.query('DELETE FROM DS_WORK.PHYSICIAN_AFFILIATION_TOTAL_PATIENTS_MEDICARE WHERE 1=1').result()\n",
    "bq_conn.load_table_from_dataframe(df_patients_mcr, 'DS_WORK.PHYSICIAN_AFFILIATION_TOTAL_PATIENTS_MEDICARE').result()"
   ]
  },
  {
   "cell_type": "code",
   "execution_count": null,
   "metadata": {},
   "outputs": [],
   "source": []
  },
  {
   "cell_type": "code",
   "execution_count": null,
   "metadata": {},
   "outputs": [],
   "source": []
  },
  {
   "cell_type": "code",
   "execution_count": null,
   "metadata": {},
   "outputs": [],
   "source": []
  }
 ],
 "metadata": {
  "kernelspec": {
   "display_name": "Python 3",
   "language": "python",
   "name": "python3"
  },
  "language_info": {
   "codemirror_mode": {
    "name": "ipython",
    "version": 3
   },
   "file_extension": ".py",
   "mimetype": "text/x-python",
   "name": "python",
   "nbconvert_exporter": "python",
   "pygments_lexer": "ipython3",
   "version": "3.6.8"
  }
 },
 "nbformat": 4,
 "nbformat_minor": 4
}

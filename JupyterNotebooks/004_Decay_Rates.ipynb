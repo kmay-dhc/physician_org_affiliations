{
 "cells": [
  {
   "cell_type": "markdown",
   "metadata": {},
   "source": [
    "## Decay Rate"
   ]
  },
  {
   "cell_type": "markdown",
   "metadata": {},
   "source": [
    "The rate will be dependent on: \n",
    "- Commercial Claims \n",
    "- Medicare Claims\n",
    "- Average lag between claims (# of months) \n",
    "- Max lag between claims (# of months) \n",
    "\n",
    "A relationship will remain active (decay rate of 0) with 1 or more claims in a month \n",
    "\n",
    "Decay starts when the # of months since the last claim exceeds the average\n",
    "- Exponential rate of decay starting at the historical average, through the historical max\n",
    " - If the lag period exceeds the historical max, it will be flagged as no longer current \n",
    "\n",
    "Analysis dates for commercial and Medicare claims to be systematically determined based on data availability"
   ]
  },
  {
   "cell_type": "code",
   "execution_count": 1,
   "metadata": {},
   "outputs": [],
   "source": [
    "import math\n",
    "import numpy as np\n",
    "import matplotlib.pyplot as plt\n",
    "import seaborn as sns\n",
    "from google.cloud import bigquery\n",
    "\n",
    "from datetime import datetime\n",
    "import pyodbc\n",
    "import pandas as pd"
   ]
  },
  {
   "cell_type": "markdown",
   "metadata": {},
   "source": [
    "#### All relationship decay rates"
   ]
  },
  {
   "cell_type": "code",
   "execution_count": 2,
   "metadata": {},
   "outputs": [],
   "source": [
    "bq_conn = bigquery.Client()\n",
    "p02_conn = pyodbc.connect('DRIVER={ODBC Driver 17 for SQL Server};SERVER=DHCSQLP02;DATABASE=DS_WORK;Trusted_Connection=yes;')"
   ]
  },
  {
   "cell_type": "code",
   "execution_count": 3,
   "metadata": {},
   "outputs": [],
   "source": [
    "#get this through query (max commercial date - 3 months?)\n",
    "\n",
    "dt_comm = bq_conn.query(\"\"\"SELECT DATE_ADD(DATE_ADD(MAX(CLAIM_DATE), INTERVAL -3 MONTH), INTERVAL 1 DAY) AS MAX_COMM_DATE \n",
    "                 FROM CommercialHealthClaims.CLMS_COMMERCIAL_MAX_DATE \n",
    "                 WHERE ANALYSIS_TYPE_ID = 1\"\"\").result().to_dataframe().loc[0].values[0].strftime('%Y-%m-%d')\n",
    "\n"
   ]
  },
  {
   "cell_type": "code",
   "execution_count": 4,
   "metadata": {},
   "outputs": [],
   "source": [
    "medicare_years = list()\n",
    "\n",
    "for db in(list(pd.read_sql(\"\"\"SELECT [name] AS DB FROM sys.databases WHERE [name] LIKE 'MEDICARE_SAF_20%' \"\"\", p02_conn)['DB'].values)):\n",
    "    if db[-4:] > '2015':\n",
    "        medicare_years.append(db[-4:])\n",
    "\n",
    "dt_mcr = pd.read_sql(\"\"\"SELECT DATEADD(DAY, 1, MAX(CLM_THRU_DT)) AS MAX_DATE_MCR FROM MEDICARE_SAF_{}.dbo.CLAIMS_FILE_QTRLY\"\"\".format(max(medicare_years)), p02_conn)['MAX_DATE_MCR'].values[0].strftime('%Y-%m-%d')"
   ]
  },
  {
   "cell_type": "code",
   "execution_count": null,
   "metadata": {},
   "outputs": [],
   "source": []
  },
  {
   "cell_type": "code",
   "execution_count": 5,
   "metadata": {},
   "outputs": [
    {
     "data": {
      "text/plain": [
       "<google.cloud.bigquery.table._EmptyRowIterator at 0x7f594954dcc0>"
      ]
     },
     "execution_count": 5,
     "metadata": {},
     "output_type": "execute_result"
    }
   ],
   "source": [
    "# calc decay \n",
    "sql_calc_decay = \"\"\"\n",
    "CREATE OR REPLACE TABLE DS_WORK.PHYSICIAN_ORG_AFFILIATION_DECAY \n",
    "AS \n",
    "SELECT  PHYSICIAN_NPI\n",
    "      , DEFHC_ID \n",
    "      , CURRENT_MONTH_LAG\n",
    "      , AVG_MONTH_LAG\n",
    "      , MAX_MONTH_LAG \n",
    "      , DECAY_RATE \n",
    "      , CASE WHEN CURRENT_MONTH_LAG <= IFNULL(AVG_MONTH_LAG, 1) THEN 1 \n",
    "          ELSE POWER((1+DECAY_RATE), CURRENT_MONTH_LAG)\n",
    "        END AS CURRENT_DECAY_REMAINING_VAL\n",
    "      , CURRENT_DATE() AS UPDATE_DATE \n",
    "FROM    (\n",
    "        SELECT *\n",
    "          , (POWER(0.1, (1/(IFNULL(MAX_MONTH_LAG,1)+1))))- 1 AS DECAY_RATE\n",
    "          , CASE WHEN IFNULL(MAX_DATE_COMM,'1900-01-01') = MAX_DATE THEN DATE_DIFF('{dt_comm}', MAX_DATE, MONTH) \n",
    "                ELSE DATE_DIFF('{dt_mcr}', MAX_DATE, MONTH)\n",
    "            END AS CURRENT_MONTH_LAG \n",
    "        FROM DS_WORK.PHYSICIAN_ORG_AFFILIATIONS \n",
    "        ) \n",
    "\"\"\".format(dt_comm=dt_comm, dt_mcr=dt_mcr)\n",
    "\n",
    "bq_conn.query(sql_calc_decay).result()"
   ]
  },
  {
   "cell_type": "code",
   "execution_count": null,
   "metadata": {},
   "outputs": [],
   "source": []
  },
  {
   "cell_type": "code",
   "execution_count": null,
   "metadata": {},
   "outputs": [],
   "source": []
  },
  {
   "cell_type": "code",
   "execution_count": null,
   "metadata": {},
   "outputs": [],
   "source": []
  },
  {
   "cell_type": "markdown",
   "metadata": {},
   "source": []
  }
 ],
 "metadata": {
  "kernelspec": {
   "display_name": "Python 3",
   "language": "python",
   "name": "python3"
  },
  "language_info": {
   "codemirror_mode": {
    "name": "ipython",
    "version": 3
   },
   "file_extension": ".py",
   "mimetype": "text/x-python",
   "name": "python",
   "nbconvert_exporter": "python",
   "pygments_lexer": "ipython3",
   "version": "3.6.8"
  }
 },
 "nbformat": 4,
 "nbformat_minor": 4
}

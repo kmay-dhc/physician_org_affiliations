{
 "cells": [
  {
   "cell_type": "markdown",
   "metadata": {},
   "source": [
    "#### Add additional metrics and scores."
   ]
  },
  {
   "cell_type": "code",
   "execution_count": null,
   "metadata": {},
   "outputs": [],
   "source": []
  },
  {
   "cell_type": "code",
   "execution_count": 1,
   "metadata": {},
   "outputs": [],
   "source": [
    "import pandas as pd \n",
    "from google.cloud import bigquery"
   ]
  },
  {
   "cell_type": "code",
   "execution_count": 2,
   "metadata": {},
   "outputs": [],
   "source": [
    "bq_conn = bigquery.Client()"
   ]
  },
  {
   "cell_type": "markdown",
   "metadata": {},
   "source": []
  },
  {
   "cell_type": "code",
   "execution_count": 3,
   "metadata": {},
   "outputs": [
    {
     "data": {
      "text/plain": [
       "<google.cloud.bigquery.table._EmptyRowIterator at 0x7f947b343278>"
      ]
     },
     "execution_count": 3,
     "metadata": {},
     "output_type": "execute_result"
    }
   ],
   "source": [
    "sql_combine = \"\"\"\n",
    "CREATE OR REPLACE TABLE DS_WORK.PHYSICIAN_ORG_AFFILIATIONS\n",
    "AS\n",
    "SELECT A.*\n",
    "  , CASE WHEN B.PHYSICIAN_NPI IS NOT NULL THEN 1 ELSE 0 END AS OTHER_SOURCE_FLAG\n",
    "  , CASE WHEN CURRENT_DECAY_REMAINING_VAL >= 0.1 THEN 1 ELSE 0 END AS CURRENT_FLAG \n",
    "  , SCORE\n",
    "  , SCORE_BUCKET \n",
    "  , CURRENT_DECAY_REMAINING_VAL\n",
    "  , PCT_CLAIMS_MCR\n",
    "  , PCT_CLAIMS_COMM\n",
    "  , PCT_CLAIMS\n",
    "  , ROW_NUMBER() OVER(PARTITION BY A.PHYSICIAN_NPI, A.FIRM_TYPE ORDER BY SCORE DESC) AS FIRM_TYPE_RANK \n",
    "  , PHYSICIAN_TOTAL_PATIENTS_COMM AS PATIENTS_COMM\n",
    "  , PHYSICIAN_TOTAL_PATIENTS_MCR AS PATIENTS_MCR \n",
    "FROM   DS_WORK.PHYSICIAN_ORG_AFFILIATIONS A \n",
    "LEFT JOIN   (\n",
    "              SELECT PHYSICIAN_NPI, DEFHC_ID \n",
    "              FROM (\n",
    "                   SELECT NPI AS PHYSICIAN_NPI, HOSPITAL_ID AS DEFHC_ID FROM DS_WORK.CURRENT_PHYSICIAN_PG_AFFILIATIONS\n",
    "                   UNION DISTINCT\n",
    "                   SELECT NPI AS PHYSICIAN_NPI, HOSPITAL_ID AS DEFHC_ID FROM DS_WORK.CURRENT_PHYSICIAN_HOSPITAL_AFFILIATIONS\n",
    "                   ) \n",
    "             ) B\n",
    "ON   A.PHYSICIAN_NPI = B.PHYSICIAN_NPI \n",
    "AND  A.DEFHC_ID = B.DEFHC_ID \n",
    "LEFT JOIN DS_WORK.PHYSICIAN_ORG_AFFILIATION_DECAY C\n",
    "ON   A.PHYSICIAN_NPI = C.PHYSICIAN_NPI \n",
    "AND  A.DEFHC_ID = C.DEFHC_ID \n",
    "LEFT JOIN DS_WORK.PHYSICIAN_ORG_AFFILIATION_SCORES D\n",
    "ON   A.PHYSICIAN_NPI = D.PHYSICIAN_NPI \n",
    "AND  A.DEFHC_ID = D.DEFHC_ID\n",
    "LEFT JOIN DS_WORK.PHYSICIAN_ORG_AFFILIATIONS_CLAIMS_PCT E\n",
    "ON   A.PHYSICIAN_NPI = E.PHYSICIAN_NPI\n",
    "AND  A.DEFHC_ID = E.DEFHC_ID \n",
    "LEFT JOIN DS_WORK.PHYSICIAN_AFFILIATION_TOTAL_PATIENTS_COMMERCIAL F\n",
    "ON   A.PHYSICIAN_NPI = F.PHYSICIAN_NPI \n",
    "AND  A.DEFHC_ID = F.DEFHC_ID\n",
    "LEFT JOIN DS_WORK.PHYSICIAN_AFFILIATION_TOTAL_PATIENTS_MEDICARE G\n",
    "ON   CAST(A.PHYSICIAN_NPI AS STRING) = G.PHYSICIAN_NPI \n",
    "AND  A.DEFHC_ID = G.DEFHC_ID\n",
    "\"\"\"\n",
    "\n",
    "bq_conn.query(sql_combine).result()"
   ]
  },
  {
   "cell_type": "code",
   "execution_count": null,
   "metadata": {},
   "outputs": [],
   "source": []
  },
  {
   "cell_type": "code",
   "execution_count": null,
   "metadata": {},
   "outputs": [],
   "source": []
  },
  {
   "cell_type": "code",
   "execution_count": null,
   "metadata": {},
   "outputs": [],
   "source": []
  },
  {
   "cell_type": "code",
   "execution_count": null,
   "metadata": {},
   "outputs": [],
   "source": []
  }
 ],
 "metadata": {
  "kernelspec": {
   "display_name": "Python 3",
   "language": "python",
   "name": "python3"
  },
  "language_info": {
   "codemirror_mode": {
    "name": "ipython",
    "version": 3
   },
   "file_extension": ".py",
   "mimetype": "text/x-python",
   "name": "python",
   "nbconvert_exporter": "python",
   "pygments_lexer": "ipython3",
   "version": "3.6.8"
  }
 },
 "nbformat": 4,
 "nbformat_minor": 4
}

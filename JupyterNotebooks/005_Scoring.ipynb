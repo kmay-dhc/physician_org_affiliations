{
 "cells": [
  {
   "cell_type": "markdown",
   "metadata": {},
   "source": [
    "#### Calculate Scores"
   ]
  },
  {
   "cell_type": "code",
   "execution_count": null,
   "metadata": {},
   "outputs": [],
   "source": []
  },
  {
   "cell_type": "code",
   "execution_count": 1,
   "metadata": {},
   "outputs": [],
   "source": [
    "import pandas as pd \n",
    "from google.cloud import bigquery"
   ]
  },
  {
   "cell_type": "code",
   "execution_count": 2,
   "metadata": {},
   "outputs": [],
   "source": [
    "bq_conn = bigquery.Client()"
   ]
  },
  {
   "cell_type": "markdown",
   "metadata": {},
   "source": []
  },
  {
   "cell_type": "code",
   "execution_count": 3,
   "metadata": {},
   "outputs": [
    {
     "data": {
      "text/plain": [
       "<google.cloud.bigquery.table._EmptyRowIterator at 0x7fad795ac278>"
      ]
     },
     "execution_count": 3,
     "metadata": {},
     "output_type": "execute_result"
    }
   ],
   "source": [
    "sql_calc_score = \"\"\"\n",
    "-- score = log pct months + log months + log claims - log avg month lag + log comm claims + log mcr claims  \n",
    "-- get the min and max score values, and divide by 10.\n",
    "-- create buckets based on that cutoff. Every affiliation then gets a score between 1 and 10. \n",
    "\n",
    "CREATE OR REPLACE TABLE DS_WORK.PHYSICIAN_ORG_AFFILIATION_SCORES\n",
    "AS \n",
    "SELECT *\n",
    "    , LOG_PCT_MONTHS_MCR + LOG_PCT_MONTHS_COMM + LOG_MONTHS + LOG_CLAIMS - LOG_AVG_MONTH_LAG AS SCORE \n",
    "    , NULL AS SCORE_BUCKET\n",
    "FROM (\n",
    "      SELECT PHYSICIAN_NPI\n",
    "      , DEFHC_ID\n",
    "      , CASE WHEN MAX_DATE_MCR IS NULL THEN 0\n",
    "             WHEN DATE_DIFF(MAX_DATE_MCR, MIN_DATE_MCR, MONTH)+1 = 1 THEN 0 \n",
    "            ELSE LOG((MONTHS_MCR*1.0/(DATE_DIFF(MAX_DATE_MCR, MIN_DATE_MCR, MONTH)+1))*100, 10) END AS LOG_PCT_MONTHS_MCR\n",
    "      , CASE WHEN MAX_DATE_COMM IS NULL THEN 0\n",
    "             WHEN DATE_DIFF(MAX_DATE_COMM, MIN_DATE_COMM, MONTH)+1 = 1 THEN 0 \n",
    "            ELSE LOG((MONTHS_COMM*1.0/(DATE_DIFF(MAX_DATE_COMM, MIN_DATE_COMM, MONTH)+1))*100, 10) END AS LOG_PCT_MONTHS_COMM\n",
    "      , LOG(MONTHS, 10) AS LOG_MONTHS\n",
    "      , LOG(COMM_CLAIMS+MCR_CLAIMS, 10) AS LOG_CLAIMS\n",
    "      , CASE WHEN AVG_MONTH_LAG IS NULL THEN 0 ELSE LOG(AVG_MONTH_LAG, 10) END AS LOG_AVG_MONTH_LAG \n",
    "      FROM DS_WORK.PHYSICIAN_ORG_AFFILIATIONS \n",
    "    ) \"\"\"\n",
    "\n",
    "bq_conn.query(sql_calc_score).result()"
   ]
  },
  {
   "cell_type": "code",
   "execution_count": 4,
   "metadata": {},
   "outputs": [
    {
     "data": {
      "text/plain": [
       "<google.cloud.bigquery.table._EmptyRowIterator at 0x7fad5030aeb8>"
      ]
     },
     "execution_count": 4,
     "metadata": {},
     "output_type": "execute_result"
    }
   ],
   "source": [
    "sql_update_score_bucket = \"\"\"\n",
    "UPDATE DS_WORK.PHYSICIAN_ORG_AFFILIATION_SCORES \n",
    "SET SCORE_BUCKET = CAST(CEILING((SCORE-(SELECT MIN(SCORE) \n",
    "                                        FROM DS_WORK.PHYSICIAN_ORG_AFFILIATION_SCORES)) \n",
    "                                 / \n",
    "                                 (SELECT (MAX(SCORE) - MIN(SCORE)) / 10 AS BUCKET_SIZE \n",
    "                                  FROM DS_WORK.PHYSICIAN_ORG_AFFILIATION_SCORES) \n",
    "                                ) AS INT64)\n",
    "WHERE 1=1\"\"\"\n",
    "\n",
    "bq_conn.query(sql_update_score_bucket).result()\n",
    "\n",
    "bq_conn.query(\"\"\"UPDATE DS_WORK.PHYSICIAN_ORG_AFFILIATION_SCORES SET SCORE_BUCKET = 1 WHERE SCORE_BUCKET < 1\"\"\").result()"
   ]
  },
  {
   "cell_type": "code",
   "execution_count": null,
   "metadata": {},
   "outputs": [],
   "source": []
  }
 ],
 "metadata": {
  "kernelspec": {
   "display_name": "Python 3",
   "language": "python",
   "name": "python3"
  },
  "language_info": {
   "codemirror_mode": {
    "name": "ipython",
    "version": 3
   },
   "file_extension": ".py",
   "mimetype": "text/x-python",
   "name": "python",
   "nbconvert_exporter": "python",
   "pygments_lexer": "ipython3",
   "version": "3.6.8"
  }
 },
 "nbformat": 4,
 "nbformat_minor": 4
}

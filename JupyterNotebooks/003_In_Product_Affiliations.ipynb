{
 "cells": [
  {
   "cell_type": "markdown",
   "metadata": {},
   "source": [
    "#### Current in-product affiliations"
   ]
  },
  {
   "cell_type": "code",
   "execution_count": 1,
   "metadata": {},
   "outputs": [],
   "source": [
    "from google.cloud import bigquery\n",
    "import pyodbc\n",
    "import pandas as pd\n",
    "from datetime import datetime"
   ]
  },
  {
   "cell_type": "code",
   "execution_count": 2,
   "metadata": {},
   "outputs": [],
   "source": [
    "bq_conn = bigquery.Client()\n",
    "ssms_conn = pyodbc.connect('DRIVER={ODBC Driver 17 for SQL Server};SERVER=Database5;DATABASE=DefinitiveHC;Trusted_Connection=yes;')"
   ]
  },
  {
   "cell_type": "code",
   "execution_count": 3,
   "metadata": {},
   "outputs": [
    {
     "data": {
      "text/plain": [
       "<google.cloud.bigquery.table._EmptyRowIterator at 0x7fd28414ed68>"
      ]
     },
     "execution_count": 3,
     "metadata": {},
     "output_type": "execute_result"
    }
   ],
   "source": [
    "# Truncate BQ tables \n",
    "bq_conn.query(\"\"\"DELETE FROM DS_WORK.CURRENT_PHYSICIAN_HOSPITAL_AFFILIATIONS WHERE 1=1\"\"\").result()\n",
    "bq_conn.query(\"\"\"DELETE FROM DS_WORK.CURRENT_PHYSICIAN_PG_AFFILIATIONS WHERE 1=1\"\"\").result()\n",
    "bq_conn.query(\"\"\"DELETE FROM DS_WORK.CURRENT_PHYSICIAN_ASC_AFFILIATIONS WHERE 1=1\"\"\").result()\n",
    "bq_conn.query(\"\"\"DELETE FROM DS_WORK.CURRENT_PHYSICIAN_IC_AFFILIATIONS WHERE 1=1\"\"\").result()"
   ]
  },
  {
   "cell_type": "code",
   "execution_count": 4,
   "metadata": {},
   "outputs": [],
   "source": [
    "#Re-populate BQ tables"
   ]
  },
  {
   "cell_type": "markdown",
   "metadata": {},
   "source": [
    "Hospitals"
   ]
  },
  {
   "cell_type": "code",
   "execution_count": 5,
   "metadata": {},
   "outputs": [],
   "source": [
    "hosp_aff_sql = \"\"\"\n",
    "SELECT A.NPI, A.PRIMARY_AFFILIATION_HOSPITAL_ID AS HOSPITAL_ID, AC.HOSPITAL_NAME\n",
    ", AC.FIRM_TYPE, AC.HQ_CITY\n",
    ", AC.HQ_STATE\n",
    ", 1 AS AFFILIATION_RANK\n",
    ", CAST(GETDATE() AS DATE) AS UPDATE_DATE\n",
    "FROM HOSPITAL.PHYSICIAN_COMPARE_PHYSICIANS A\n",
    "JOIN HOSPITAL.ALL_COMPANIES AC \n",
    "ON A.PRIMARY_AFFILIATION_HOSPITAL_ID = AC.HOSPITAL_ID\n",
    "UNION\n",
    "SELECT A.NPI, A.HOSPITAL_ID2 AS HOSPITAL_ID, AC.HOSPITAL_NAME\n",
    ", AC.FIRM_TYPE, AC.HQ_CITY\n",
    ", AC.HQ_STATE\n",
    ", 2 AS AFFILIATION_RANK\n",
    ", CAST(GETDATE() AS DATE) AS UPDATE_DATE\n",
    "FROM HOSPITAL.PHYSICIAN_COMPARE_PHYSICIANS A\n",
    "JOIN HOSPITAL.ALL_COMPANIES AC \n",
    "ON A.HOSPITAL_ID2 = AC.HOSPITAL_ID\n",
    "UNION\n",
    "SELECT A.NPI, A.HOSPITAL_ID3 AS HOSPITAL_ID, AC.HOSPITAL_NAME\n",
    ", AC.FIRM_TYPE, AC.HQ_CITY\n",
    ", AC.HQ_STATE\n",
    ", 3 AS AFFILIATION_RANK\n",
    ", CAST(GETDATE() AS DATE) AS UPDATE_DATE\n",
    "FROM HOSPITAL.PHYSICIAN_COMPARE_PHYSICIANS A\n",
    "JOIN HOSPITAL.ALL_COMPANIES AC \n",
    "ON A.HOSPITAL_ID3 = AC.HOSPITAL_ID\n",
    "UNION\n",
    "SELECT A.NPI, A.HOSPITAL_ID4 AS HOSPITAL_ID, AC.HOSPITAL_NAME\n",
    ", AC.FIRM_TYPE, AC.HQ_CITY\n",
    ", AC.HQ_STATE\n",
    ", 4 AS AFFILIATION_RANK\n",
    ", CAST(GETDATE() AS DATE) AS UPDATE_DATE\n",
    "FROM HOSPITAL.PHYSICIAN_COMPARE_PHYSICIANS A\n",
    "JOIN HOSPITAL.ALL_COMPANIES AC \n",
    "ON A.HOSPITAL_ID4 = AC.HOSPITAL_ID\n",
    "UNION\n",
    "SELECT A.NPI, A.HOSPITAL_ID5 AS HOSPITAL_ID, AC.HOSPITAL_NAME\n",
    ", AC.FIRM_TYPE, AC.HQ_CITY\n",
    ", AC.HQ_STATE\n",
    ", 5 AS AFFILIATION_RANK\n",
    ", CAST(GETDATE() AS DATE) AS UPDATE_DATE\n",
    "FROM HOSPITAL.PHYSICIAN_COMPARE_PHYSICIANS A\n",
    "JOIN HOSPITAL.ALL_COMPANIES AC \n",
    "ON A.HOSPITAL_ID5 = AC.HOSPITAL_ID\"\"\""
   ]
  },
  {
   "cell_type": "code",
   "execution_count": 6,
   "metadata": {},
   "outputs": [],
   "source": [
    "hosp_aff_df = pd.read_sql(hosp_aff_sql, ssms_conn)"
   ]
  },
  {
   "cell_type": "code",
   "execution_count": 7,
   "metadata": {},
   "outputs": [
    {
     "name": "stderr",
     "output_type": "stream",
     "text": [
      "/usr/local/lib/python3.6/site-packages/google/cloud/bigquery/_pandas_helpers.py:275: UserWarning: Unable to determine type of column 'HOSPITAL_NAME'.\n",
      "  warnings.warn(u\"Unable to determine type of column '{}'.\".format(column))\n"
     ]
    },
    {
     "data": {
      "text/plain": [
       "<google.cloud.bigquery.job.LoadJob at 0x7fd238e19cc0>"
      ]
     },
     "execution_count": 7,
     "metadata": {},
     "output_type": "execute_result"
    }
   ],
   "source": [
    "bq_conn.load_table_from_dataframe(hosp_aff_df, 'DS_WORK.CURRENT_PHYSICIAN_HOSPITAL_AFFILIATIONS').result()"
   ]
  },
  {
   "cell_type": "markdown",
   "metadata": {},
   "source": [
    "Physician Groups"
   ]
  },
  {
   "cell_type": "code",
   "execution_count": 8,
   "metadata": {},
   "outputs": [],
   "source": [
    "pg_aff_sql = \"\"\"\n",
    "SELECT A.NPI, A.HOSPITAL_ID, AC.HOSPITAL_NAME, AC.FIRM_TYPE, AC.HQ_CITY, AC.HQ_STATE, CAST(GETDATE() AS DATE) AS UPDATE_DATE\n",
    "FROM HOSPITAL.PHYSICIAN_COMPARE_PHYSICIANS_TO_GROUP_PRACTICE A \n",
    "JOIN HOSPITAL.PHYSICIAN_COMPARE_PHYSICIANS B \n",
    "ON A.NPI = B.NPI\n",
    "JOIN HOSPITAL.ALL_COMPANIES AC\n",
    "ON A.HOSPITAL_ID = AC.HOSPITAL_ID\"\"\""
   ]
  },
  {
   "cell_type": "code",
   "execution_count": 9,
   "metadata": {},
   "outputs": [],
   "source": [
    "pg_aff_df = pd.read_sql(pg_aff_sql, ssms_conn)"
   ]
  },
  {
   "cell_type": "code",
   "execution_count": 10,
   "metadata": {},
   "outputs": [
    {
     "data": {
      "text/plain": [
       "<google.cloud.bigquery.job.LoadJob at 0x7fd238e19e80>"
      ]
     },
     "execution_count": 10,
     "metadata": {},
     "output_type": "execute_result"
    }
   ],
   "source": [
    "bq_conn.load_table_from_dataframe(pg_aff_df, 'DS_WORK.CURRENT_PHYSICIAN_PG_AFFILIATIONS').result()"
   ]
  },
  {
   "cell_type": "markdown",
   "metadata": {},
   "source": [
    "Surgery Centers"
   ]
  },
  {
   "cell_type": "code",
   "execution_count": 11,
   "metadata": {},
   "outputs": [],
   "source": [
    "asc_aff_sql = \"\"\"\n",
    "SELECT A.NPI, D.HOSPITAL_ID, AC.HOSPITAL_NAME, AC.FIRM_TYPE, AC.HQ_CITY, AC.HQ_STATE, CAST(GETDATE() AS DATE) AS UPDATE_DATE \n",
    "FROM HOSPITAL.PHYSICIAN_COMPARE_PHYSICIANS A\n",
    "JOIN HOSPITAL.PHYSICIAN_COMPARE_PHYSICIANS_TO_GROUP_PRACTICE B\n",
    "ON A.NPI=B.NPI\n",
    "JOIN HOSPITAL.PHYSICIAN_GROUPS C\n",
    "ON B.HOSPITAL_ID=C.HOSPITAL_ID\n",
    "JOIN HOSPITAL.AMBULATORY_SURGERY_CENTERS D\n",
    "ON B.HOSPITAL_ID=D.PG_PARENT_ID\n",
    "JOIN HOSPITAL.ALL_COMPANIES AC\n",
    "ON D.HOSPITAL_ID = AC.HOSPITAL_ID\n",
    "\"\"\""
   ]
  },
  {
   "cell_type": "code",
   "execution_count": 12,
   "metadata": {},
   "outputs": [],
   "source": [
    "asc_aff_df = pd.read_sql(asc_aff_sql, ssms_conn)"
   ]
  },
  {
   "cell_type": "code",
   "execution_count": 13,
   "metadata": {},
   "outputs": [
    {
     "data": {
      "text/plain": [
       "<google.cloud.bigquery.job.LoadJob at 0x7fd17e56be48>"
      ]
     },
     "execution_count": 13,
     "metadata": {},
     "output_type": "execute_result"
    }
   ],
   "source": [
    "bq_conn.load_table_from_dataframe(asc_aff_df, 'DS_WORK.CURRENT_PHYSICIAN_ASC_AFFILIATIONS').result()"
   ]
  },
  {
   "cell_type": "markdown",
   "metadata": {},
   "source": [
    "Imaging Centers"
   ]
  },
  {
   "cell_type": "code",
   "execution_count": 14,
   "metadata": {},
   "outputs": [],
   "source": [
    "ic_aff_sql = \"\"\"\n",
    "SELECT A.NPI, D.HOSPITAL_ID, AC.HOSPITAL_NAME, AC.FIRM_TYPE, AC.HQ_CITY, AC.HQ_STATE, CAST(GETDATE() AS DATE) AS UPDATE_DATE \n",
    "FROM HOSPITAL.PHYSICIAN_COMPARE_PHYSICIANS A\n",
    "JOIN HOSPITAL.PHYSICIAN_COMPARE_PHYSICIANS_TO_GROUP_PRACTICE B\n",
    "ON  A.NPI=B.NPI \n",
    "JOIN HOSPITAL.PHYSICIAN_GROUPS C\n",
    "ON B.HOSPITAL_ID=C.HOSPITAL_ID\n",
    "JOIN HOSPITAL.IMAGING D\n",
    "ON B.HOSPITAL_ID=D.PG_PARENT_ID\n",
    "JOIN HOSPITAL.ALL_COMPANIES AC\n",
    "ON D.HOSPITAL_ID = AC.HOSPITAL_ID\n",
    "\"\"\""
   ]
  },
  {
   "cell_type": "code",
   "execution_count": 15,
   "metadata": {},
   "outputs": [],
   "source": [
    "ic_aff_df = pd.read_sql(ic_aff_sql, ssms_conn)"
   ]
  },
  {
   "cell_type": "code",
   "execution_count": 16,
   "metadata": {},
   "outputs": [
    {
     "data": {
      "text/plain": [
       "<google.cloud.bigquery.job.LoadJob at 0x7fd173fe8d68>"
      ]
     },
     "execution_count": 16,
     "metadata": {},
     "output_type": "execute_result"
    }
   ],
   "source": [
    "bq_conn.load_table_from_dataframe(ic_aff_df, 'DS_WORK.CURRENT_PHYSICIAN_IC_AFFILIATIONS').result()"
   ]
  },
  {
   "cell_type": "code",
   "execution_count": null,
   "metadata": {},
   "outputs": [],
   "source": []
  },
  {
   "cell_type": "code",
   "execution_count": null,
   "metadata": {},
   "outputs": [],
   "source": []
  },
  {
   "cell_type": "code",
   "execution_count": null,
   "metadata": {},
   "outputs": [],
   "source": []
  },
  {
   "cell_type": "code",
   "execution_count": null,
   "metadata": {},
   "outputs": [],
   "source": []
  }
 ],
 "metadata": {
  "kernelspec": {
   "display_name": "Python 3",
   "language": "python",
   "name": "python3"
  },
  "language_info": {
   "codemirror_mode": {
    "name": "ipython",
    "version": 3
   },
   "file_extension": ".py",
   "mimetype": "text/x-python",
   "name": "python",
   "nbconvert_exporter": "python",
   "pygments_lexer": "ipython3",
   "version": "3.6.8"
  }
 },
 "nbformat": 4,
 "nbformat_minor": 4
}
